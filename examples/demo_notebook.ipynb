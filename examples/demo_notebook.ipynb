{
 "cells": [
  {
   "cell_type": "markdown",
   "id": "77a613f6",
   "metadata": {},
   "source": [
    "# NexaSphere-URA Demo Notebook\n",
    "\n",
    "Demo: CA agent, diffusion, and orchestration."
   ]
  },
  {
   "cell_type": "code",
   "execution_count": null,
   "id": "5c62571e",
   "metadata": {},
   "outputs": [],
   "source": [
    "from src.hexgrid import HexGrid\n",
    "from src.nexascript_engine import NexaScriptEngine\n",
    "from src.diffusion_simulator import DiffusionSimulator\n",
    "from src.material_designer_agent import MaterialDesignerAgent\n",
    "from src.constraint_aware_agent import ConstraintAwareMaterialDesignerAgent"
   ]
  },
  {
   "cell_type": "code",
   "execution_count": null,
   "id": "d04dc2f3",
   "metadata": {},
   "outputs": [],
   "source": [
    "grid = HexGrid(2)\n",
    "print('Cells:', grid.cells)\n",
    "print('Neighbors of (0,0):', grid.neighbors(0,0))"
   ]
  },
  {
   "cell_type": "code",
   "execution_count": null,
   "id": "50698b5c",
   "metadata": {},
   "outputs": [],
   "source": [
    "sim = DiffusionSimulator(2)\n",
    "sim.values[(0,0)] = 1.0\n",
    "sim.step()\n",
    "print('Diffusion values:', sim.get_values())"
   ]
  },
  {
   "cell_type": "code",
   "execution_count": null,
   "id": "d4c990b9",
   "metadata": {},
   "outputs": [],
   "source": [
    "agent = ConstraintAwareMaterialDesignerAgent(2, cost_limit=20)\n",
    "print('Design:', agent.design_with_constraints())"
   ]
  }
 ],
 "metadata": {
  "language_info": {
   "name": "python"
  }
 },
 "nbformat": 4,
 "nbformat_minor": 5
}
